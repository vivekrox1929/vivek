{
 "cells": [
  {
   "cell_type": "markdown",
   "id": "ad027099-1710-4d93-bdd5-8a72a3f77711",
   "metadata": {
    "tags": []
   },
   "source": [
    "# Data Science Tools"
   ]
  },
  {
   "cell_type": "markdown",
   "id": "4eec7e01-d23b-478a-a5bd-f3ca2b448ec4",
   "metadata": {
    "tags": []
   },
   "source": [
    "This notebook contains a very high level overview of Data Science Tools.\n",
    "It will have only basic level information just for assignment practice purposes.\n"
   ]
  },
  {
   "cell_type": "markdown",
   "id": "2b1cc2b3-3bd4-4f46-97c7-73b71419a334",
   "metadata": {},
   "source": [
    "**Data Science Languages**\n",
    "- Python\n",
    "- R\n",
    "- Scala\n",
    "- Julia\n",
    "- SQL\n",
    "\n",
    "These are mostly used, but there are other languages as well."
   ]
  },
  {
   "cell_type": "markdown",
   "id": "f32f449f-5aab-41a0-b5a2-12f9ea25c049",
   "metadata": {},
   "source": [
    "**Data Science Libraries**\n",
    "- Python : Numpy,Pandas,Tensor-Flow,SciPy,Matplotlib,PyTorch\n",
    "- R - ggplot,dplyr,caret,leaflet,Stringr\n",
    "- Scala - Scalaz\n",
    "\n",
    "These are exampes of few libraries.There are tons of libraries available in the field of data sceinse for different purposes.\n"
   ]
  },
  {
   "cell_type": "markdown",
   "id": "9b401ccf-223c-4746-b5ba-9c70d93d21fe",
   "metadata": {},
   "source": [
    "**Data Science Tools**\n",
    "- Jupytor Notebook\n",
    "- TensorFlow\n",
    "- Watson Studio\n",
    "- Git\n",
    "- Tableau\n",
    "- Apache Spark\n",
    "- Hadoop\n",
    "\n",
    "In General, Data Science Languages Python,R,SQL and many other platforms can be used as Data science tools"
   ]
  },
  {
   "cell_type": "markdown",
   "id": "debd7884-5f88-4146-bded-c07e2d45ff1d",
   "metadata": {},
   "source": [
    "**Arithmetic Expression Examples**"
   ]
  },
  {
   "cell_type": "code",
   "execution_count": 5,
   "id": "cf61cbd0-22df-446c-9904-a35f8eaf1f8e",
   "metadata": {
    "tags": []
   },
   "outputs": [
    {
     "data": {
      "text/plain": [
       "35.0"
      ]
     },
     "execution_count": 5,
     "metadata": {},
     "output_type": "execute_result"
    }
   ],
   "source": [
    "2-7+6*200/30"
   ]
  },
  {
   "cell_type": "markdown",
   "id": "e2651557-5427-4fc5-9dc5-fd9e9163bb22",
   "metadata": {},
   "source": [
    "Minutes to hours"
   ]
  },
  {
   "cell_type": "code",
   "execution_count": 12,
   "id": "75a97f30-5cb2-4588-bf33-c88ade2014f5",
   "metadata": {
    "tags": []
   },
   "outputs": [
    {
     "name": "stdout",
     "output_type": "stream",
     "text": [
      "5 minutes is equals 0.08 hours\n"
     ]
    }
   ],
   "source": [
    "x=5\n",
    "print(str(x)+' minutes is equals '+str(round(x/60,2))+' hours')\n"
   ]
  },
  {
   "cell_type": "markdown",
   "id": "1d9cb683-73a2-47db-b2eb-8fa1c9bdbe06",
   "metadata": {},
   "source": [
    "**Objectives**\n",
    "- Overview of some Data Science Languages\n",
    "- Overview of Data Science Libraries\n",
    "- Overview of Data Sciense tools\n",
    "- Sample exercises using Jupyter Notebook."
   ]
  },
  {
   "cell_type": "markdown",
   "id": "07b0c635-7ebb-46d8-8271-0ec33b9cbbd3",
   "metadata": {},
   "source": [
    "Learner Name : Mr. Mehta"
   ]
  },
  {
   "cell_type": "code",
   "execution_count": null,
   "id": "1c9c0d44-b353-4a13-8556-6c0faeb03a99",
   "metadata": {},
   "outputs": [],
   "source": []
  }
 ],
 "metadata": {
  "kernelspec": {
   "display_name": "Python",
   "language": "python",
   "name": "conda-env-python-py"
  },
  "language_info": {
   "codemirror_mode": {
    "name": "ipython",
    "version": 3
   },
   "file_extension": ".py",
   "mimetype": "text/x-python",
   "name": "python",
   "nbconvert_exporter": "python",
   "pygments_lexer": "ipython3",
   "version": "3.7.12"
  }
 },
 "nbformat": 4,
 "nbformat_minor": 5
}
